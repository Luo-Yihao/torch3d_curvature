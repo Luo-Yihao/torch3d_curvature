{
 "cells": [
  {
   "cell_type": "code",
   "execution_count": 1,
   "metadata": {},
   "outputs": [],
   "source": [
    "import numpy as np\n",
    "\n",
    "import torch\n",
    "import torch.nn as nn\n",
    "import torch.nn.functional as F\n",
    "\n",
    "from pytorch3d.io import load_objs_as_meshes\n",
    "from pytorch3d.utils import ico_sphere\n",
    "from pytorch3d.structures import Meshes, Pointclouds\n",
    "from pytorch3d.ops import sample_points_from_meshes, packed_to_padded#,knn_points, estimate_pointcloud_normals, knn_gather\n",
    "\n",
    "import trimesh\n",
    "\n",
    "from ops.utils import *\n",
    "from ops.mesh_geometry import *\n",
    "\n",
    "import pyvista as pv\n",
    "pv.start_xvfb()\n",
    "pv.set_jupyter_backend('html')\n",
    "\n",
    "import warnings\n",
    "warnings.filterwarnings(\"ignore\")"
   ]
  },
  {
   "cell_type": "code",
   "execution_count": 2,
   "metadata": {},
   "outputs": [],
   "source": [
    "# Set the device\n",
    "if torch.cuda.is_available():\n",
    "    device = torch.device(\"cuda:1\")\n",
    "else:\n",
    "    device = torch.device(\"cpu\")"
   ]
  },
  {
   "attachments": {},
   "cell_type": "markdown",
   "metadata": {},
   "source": [
    "For Mesh"
   ]
  },
  {
   "cell_type": "code",
   "execution_count": 22,
   "metadata": {},
   "outputs": [],
   "source": [
    "trg_mesh = load_objs_as_meshes([\"data_example/Holesman.obj\",\"data_example/Genus2.obj\",\"data_example/Genus6.obj\"], device=device)\n",
    "trg_mesh = normalize_mesh(trg_mesh, rescalar=0.9)\n",
    "points_np = trg_mesh[0].verts_packed().cpu().numpy()\n",
    "faces_np = trg_mesh[0].faces_packed().cpu().numpy()\n",
    "trg_trmesh = trimesh.Trimesh(vertices=points_np, faces=faces_np)"
   ]
  },
  {
   "cell_type": "code",
   "execution_count": 23,
   "metadata": {},
   "outputs": [
    {
     "name": "stdout",
     "output_type": "stream",
     "text": [
      "====== Mesh Gaussian Curvature & Euler Characteristic ======\n",
      "Euler characteristic Ground Truth (Combinational): [-402, -2, -10]\n",
      "Genus Ground Truth: [202.   2.   6.]\n",
      "-----------------------------------------------\n",
      "Differentiable Genus (local gauss-bonnet): [201.94446     1.9999855   5.999986 ]\n",
      "Differentiable Genus (gathered face curvature): [201.9964      1.9999998   6.       ]\n",
      "Differentiable Genus (face curvature): [201.99638     1.9999998   5.9999995]\n"
     ]
    }
   ],
   "source": [
    "print(\"====== Mesh Gaussian Curvature & Euler Characteristic ======\")\n",
    "\n",
    "Euler_gt = []\n",
    "for mesh_tem in trg_mesh:\n",
    "    trimesh_tem = trimesh.Trimesh(vertices=mesh_tem.verts_packed().cpu().numpy(), faces=mesh_tem.faces_packed().cpu().numpy())\n",
    "    Euler_gt.append(trimesh_tem.euler_number)\n",
    "print('Euler characteristic Ground Truth (Combinational):', Euler_gt)\n",
    "print('Genus Ground Truth:', 1 - np.array(Euler_gt)/2)\n",
    "print('-----------------------------------------------')\n",
    "\n",
    "\n",
    "gscurv_padded = vert_feature_packed_padded(trg_mesh, get_gaussian_curvature_vertices_packed(trg_mesh).view(-1,1))\n",
    "dual_areas_padded = vert_feature_packed_padded(trg_mesh, get_dual_area_vertex_packed(trg_mesh).view(-1,1))\n",
    "diff_euler = (gscurv_padded*dual_areas_padded).sum(dim=1).view(-1)/2/np.pi\n",
    "diff_genus = 1 - diff_euler/2\n",
    "print('Differentiable Genus (local gauss-bonnet):', diff_genus.cpu().numpy())\n",
    "\n",
    "\n",
    "curvature_vertex_packed = get_gaussian_curvature_vertices_from_face_packed(trg_mesh).view(-1,1)\n",
    "curvature_vertex_padded = vert_feature_packed_padded(trg_mesh, curvature_vertex_packed.view(-1,1))\n",
    "dual_areas_padded = vert_feature_packed_padded(trg_mesh, get_dual_area_vertex_packed(trg_mesh).view(-1,1))\n",
    "diff_euler = (curvature_vertex_padded*dual_areas_padded).sum(dim=1).view(-1)/2/np.pi\n",
    "diff_genus = 1 - diff_euler/2\n",
    "print('Differentiable Genus (gathered face curvature):', diff_genus.cpu().numpy())\n",
    "\n",
    "\n",
    "gc_face_packed = get_gaussian_curvature_faces_packed(trg_mesh).view(-1,1)\n",
    "gc_face_padded = face_feature_packed_padded(trg_mesh, gc_face_packed.view(-1,1))\n",
    "area_face_padded = face_feature_packed_padded(trg_mesh, trg_mesh.faces_areas_packed().view(-1,1))\n",
    "diff_euler = (gc_face_padded*area_face_padded).sum(dim=1).view(-1)/2/np.pi\n",
    "diff_genus = 1 - diff_euler/2\n",
    "print('Differentiable Genus (face curvature):', diff_genus.cpu().numpy())"
   ]
  },
  {
   "cell_type": "code",
   "execution_count": 24,
   "metadata": {},
   "outputs": [
    {
     "name": "stdout",
     "output_type": "stream",
     "text": [
      "====== Mean Curvature ======\n"
     ]
    }
   ],
   "source": [
    "print(\"====== Mean Curvature ======\")\n",
    "mean_curvature = get_mean_curvature_vertices_packed(trg_mesh).view(-1,1)\n",
    "mean_curvature_padded = vert_feature_packed_padded(trg_mesh, mean_curvature)\n"
   ]
  },
  {
   "cell_type": "code",
   "execution_count": 25,
   "metadata": {},
   "outputs": [
    {
     "name": "stdout",
     "output_type": "stream",
     "text": [
      "====== Total Curvature ======\n"
     ]
    }
   ],
   "source": [
    "print(\"====== Total Curvature ======\")\n",
    "\n",
    "total_curvature_padded = ((mean_curvature_padded*2)**2 - 2*curvature_vertex_padded)\n",
    "total_curvature_padded = total_curvature_padded.clamp(min=0)"
   ]
  },
  {
   "cell_type": "code",
   "execution_count": 26,
   "metadata": {},
   "outputs": [
    {
     "data": {
      "application/vnd.jupyter.widget-view+json": {
       "model_id": "370b7a53d672465aa08cd3900c7bf2f8",
       "version_major": 2,
       "version_minor": 0
      },
      "text/plain": [
       "EmbeddableWidget(value='<iframe srcdoc=\"<!DOCTYPE html>\\n<html>\\n  <head>\\n    <meta http-equiv=&quot;Content-…"
      ]
     },
     "metadata": {},
     "output_type": "display_data"
    }
   ],
   "source": [
    "# Visualize Curvatures\n",
    "pl = pv.Plotter(notebook=1, shape=(1, 3))\n",
    "## subplot 1\n",
    "pl.subplot(0, 0)\n",
    "index = 0\n",
    "out_trimesh = trimesh.Trimesh(trg_mesh[index].verts_packed().cpu().numpy(), trg_mesh[index].faces_packed().cpu().numpy())\n",
    "curvature_color = get_gaussian_curvature_vertices_packed(trg_mesh[index]).detach().cpu()\n",
    "curvature_color = torch.tanh(curvature_color/6).numpy()\n",
    "pl.add_mesh(out_trimesh, scalars=curvature_color, cmap=\"viridis\", show_scalar_bar=True, clim=[-1, 1],\n",
    "            scalar_bar_args={'title': 'Gaussian Curvature (tanh)', 'position_x': 0.25, 'position_y': 0.88})\n",
    "pl.zoom_camera(1.5)\n",
    "\n",
    "## subplot 2\n",
    "pl.subplot(0, 1)\n",
    "index = 0\n",
    "out_trimesh = trimesh.Trimesh(trg_mesh[index].verts_packed().cpu().numpy(), trg_mesh[index].faces_packed().cpu().numpy())\n",
    "curvature_color = get_mean_curvature_vertices_packed(trg_mesh[index]).detach().cpu()\n",
    "curvature_color = torch.tanh(curvature_color/6).numpy()\n",
    "pl.add_mesh(out_trimesh, scalars=curvature_color, cmap=\"magma\", show_scalar_bar=True, clim=[-1, 1],\n",
    "            scalar_bar_args={'title': 'Mean Curvature (tanh)', 'position_x': 0.25, 'position_y': 0.88})\n",
    "pl.zoom_camera(1.5)\n",
    "\n",
    "## subplot 3\n",
    "pl.subplot(0, 2)\n",
    "index = 0\n",
    "out_trimesh = trimesh.Trimesh(trg_mesh[index].verts_packed().cpu().numpy(), trg_mesh[index].faces_packed().cpu().numpy())\n",
    "curvature_color = total_curvature_padded[index].detach().cpu()\n",
    "curvature_color = torch.tanh(curvature_color/600).numpy()\n",
    "pl.add_mesh(out_trimesh, scalars=curvature_color, cmap=\"cividis\", show_scalar_bar=True, clim=[0, 1],\n",
    "            scalar_bar_args={'title': 'Total Curvature (tanh)', 'position_x': 0.25, 'position_y': 0.88})\n",
    "pl.zoom_camera(1.5)\n",
    "pl.show()\n",
    "# pl.screenshot(\"results/mesh_curvature_example.png\", window_size=[1000*2, 450*2])\n",
    "# pl.close()"
   ]
  },
  {
   "cell_type": "markdown",
   "metadata": {},
   "source": [
    "Curvature-Guided Sampling "
   ]
  },
  {
   "cell_type": "code",
   "execution_count": 57,
   "metadata": {},
   "outputs": [],
   "source": [
    "trg_mesh = load_objs_as_meshes([\"data_example/car.obj\"], device=device)\n",
    "\n",
    "\n",
    "\n",
    "num_samples = 100000\n",
    "\n",
    "pt_curv_flat, normals_curv_flat = sample_points_from_meshes_by_curvature(trg_mesh, num_samples=num_samples, return_normals=True,\n",
    "                                                        tanh_f=0.1,  mode='total', area_weight=0.1)\n",
    "\n",
    "pt_curv_concent, normals_curv_concent = sample_points_from_meshes_by_curvature(trg_mesh, num_samples=num_samples, return_normals=True,\n",
    "                                                        tanh_f=1e-5,  mode='total', area_weight=0.01)\n",
    "\n",
    "pt_regular, normals_regular = sample_points_from_meshes(trg_mesh, num_samples=num_samples, return_normals=True)\n",
    "\n"
   ]
  },
  {
   "cell_type": "code",
   "execution_count": 58,
   "metadata": {},
   "outputs": [
    {
     "data": {
      "application/vnd.jupyter.widget-view+json": {
       "model_id": "2d7ade9dead948c5ad9e558f07292a93",
       "version_major": 2,
       "version_minor": 0
      },
      "text/plain": [
       "EmbeddableWidget(value='<iframe srcdoc=\"<!DOCTYPE html>\\n<html>\\n  <head>\\n    <meta http-equiv=&quot;Content-…"
      ]
     },
     "metadata": {},
     "output_type": "display_data"
    }
   ],
   "source": [
    "pl = pv.Plotter(notebook=1, shape=(1, 3), window_size=[500*3, 225*3])\n",
    "\n",
    "## subplot 1\n",
    "pl.subplot(0, 0)\n",
    "colors = (1 - normals_regular.cpu().numpy()[0])/ 2\n",
    "points = pv.PolyData(pt_regular.cpu().numpy()[0])\n",
    "points.cell_data['colors'] = colors\n",
    "pl.add_points(points, scalars='colors', point_size=2, show_scalar_bar=False)\n",
    "pl.add_text(\"Regular Sampling\", font_size=10, position='upper_edge', color='k')\n",
    "\n",
    "## subplot 1\n",
    "pl.subplot(0, 1)\n",
    "colors = (1 - normals_curv_flat.cpu().numpy()[0])/ 2\n",
    "points = pv.PolyData(pt_curv_flat.cpu().numpy()[0])\n",
    "points.cell_data['colors'] = colors\n",
    "pl.add_points(points, scalars='colors', point_size=2, show_scalar_bar=False)\n",
    "pl.add_text(\"Curvature Sampling (Flatten)\", font_size=10, position='upper_edge', color='k')\n",
    "\n",
    "## subplot 2\n",
    "pl.subplot(0, 2)\n",
    "colors = (1 - normals_curv_concent.cpu().numpy()[0])/ 2\n",
    "points = pv.PolyData(pt_curv_concent.cpu().numpy()[0])\n",
    "points.cell_data['colors'] = colors\n",
    "pl.add_points(points, scalars='colors', point_size=2, show_scalar_bar=False)\n",
    "pl.add_text(\"Curvature Sampling (Concentrated)\", font_size=10, position='upper_edge', color='k')\n",
    "\n",
    "pl.show(screenshot=\"figures/curvature_sampling_example.png\")"
   ]
  },
  {
   "cell_type": "code",
   "execution_count": null,
   "metadata": {},
   "outputs": [],
   "source": []
  },
  {
   "cell_type": "code",
   "execution_count": null,
   "metadata": {},
   "outputs": [],
   "source": []
  },
  {
   "attachments": {},
   "cell_type": "markdown",
   "metadata": {},
   "source": [
    "For PCL"
   ]
  },
  {
   "cell_type": "code",
   "execution_count": null,
   "metadata": {},
   "outputs": [],
   "source": [
    "from ops.pcl_geometry import *"
   ]
  },
  {
   "cell_type": "code",
   "execution_count": null,
   "metadata": {},
   "outputs": [],
   "source": [
    "trg_mesh = load_objs_as_meshes([\"data_example/Kitten.obj\", \"data_example/Genus2.obj\"], device=device)\n",
    "\n",
    "trg_mesh = normalize_mesh(trg_mesh)\n",
    "\n",
    "trg_trmesh = trimesh.Trimesh(vertices=trg_mesh[0].verts_packed().cpu().numpy(), faces=trg_mesh[0].faces_packed().cpu().numpy())\n"
   ]
  },
  {
   "cell_type": "code",
   "execution_count": null,
   "metadata": {},
   "outputs": [],
   "source": [
    "num_samples = np.random.randint(1000,20000)\n",
    "pointscloud, normals_gt = sample_points_from_meshes(trg_mesh, num_samples, return_normals=True)\n",
    "\n",
    "global_mean = pointscloud.mean(dim=-2,keepdim=True)\n",
    "global_cov = torch.matmul((pointscloud - global_mean).transpose(-1,-2), (pointscloud - global_mean))/(num_samples-1)\n",
    "global_square_trace = global_cov.diagonal(offset=0, dim1=-2, dim2=-1).sum(-1)\n",
    "print('Normalized by scale of global_square_trace:', global_square_trace.cpu().numpy())\n",
    "\n",
    "trg_mesh = trg_mesh.update_padded((trg_mesh.verts_padded() - global_mean)/torch.sqrt(global_square_trace).unsqueeze(-1).unsqueeze(-1))\n",
    "pointscloud, normals_gt = sample_points_from_meshes(trg_mesh, 50000, return_normals=True)\n"
   ]
  },
  {
   "cell_type": "code",
   "execution_count": null,
   "metadata": {},
   "outputs": [],
   "source": [
    "pcl_with_frames = Differentiable_Global_Geometry_PointCloud(pointscloud, k = 8)\n",
    "\n",
    "\n",
    "face_area_padded = face_feature_packed_padded(trg_mesh, trg_mesh.faces_areas_packed())\n",
    "# pointscloud, normals = sample_points_from_meshes(trg_mesh, 1000, return_normals=True)\n",
    "print(\"====== Local Voronoi Area ======\")\n",
    "print(\"Area GT:\", face_area_padded.sum(dim=-1).cpu().numpy())\n",
    "\n",
    "\n",
    "with torch.no_grad():\n",
    "\n",
    "    weingarten_fields = pcl_with_frames.weingarten_fields()\n",
    "    ##### determinant of the Weingarten map\n",
    "    gaussian_curvature = weingarten_fields.det().unsqueeze(-1)\n",
    "\n",
    "    ##### trace of the Weingarten map\n",
    "    mean_curvature = weingarten_fields.diagonal(offset=0, dim1=-1, dim2=-2).mean(-1).unsqueeze(-1)\n",
    "\n",
    "    ##### norm of the Weingarten map\n",
    "    total_curvature = (weingarten_fields@weingarten_fields.transpose(-1,-2)).diagonal(offset=0, dim1=-1, dim2=-2).sum(-1).unsqueeze(-1)\n",
    "\n",
    "    area = pcl_with_frames.local_voronoi_area(local_W=64)\n",
    "\n",
    "print(\"Area Estimated:\", area.sum(dim=1).view(-1).cpu().numpy())\n",
    "print(\"====== Gaussian Curvature and Euler Characteristic ======\")\n",
    "print(\"Diff Euler Number:\", (gaussian_curvature*area).sum(dim=1).view(-1).cpu().numpy()/2/np.pi)\n",
    "print(\"Diff Genus:\", 1 - (gaussian_curvature*area).sum(dim=1).view(-1).cpu().numpy()/4/np.pi)\n",
    "\n",
    "\n",
    "\n",
    "\n"
   ]
  },
  {
   "cell_type": "code",
   "execution_count": null,
   "metadata": {},
   "outputs": [],
   "source": [
    "### Plot the point cloud with the estimated gaussian curvature\n",
    "pl = pv.Plotter(notebook=True, shape=(1, 3))\n",
    "# index = np.random.randint(0,pointscloud.shape[0])\n",
    "index = 0\n",
    "pl.subplot(0, 0)\n",
    "rescaled_gs_curv = gaussian_curvature[index: index+1]\n",
    "rescaled_gs_curv = torch.tanh(rescaled_gs_curv/6)\n",
    "pl.add_points(pcl_with_frames.pointscloud.detach().cpu().numpy()[index], scalars=rescaled_gs_curv.detach().cpu().numpy(), \n",
    "              point_size=5,cmap=\"viridis\", clim=[-1,1], show_scalar_bar=True,\n",
    "              scalar_bar_args={'title': 'Gaussian Curvature (tanh)', 'position_x': 0.25, 'position_y': 0.88})\n",
    "pl.zoom_camera(1.5)\n",
    "pl.subplot(0, 1)\n",
    "rescaled_mean_curv = mean_curvature[index: index+1]\n",
    "rescaled_mean_curv = torch.tanh(rescaled_mean_curv/6)\n",
    "pl.add_points(pcl_with_frames.pointscloud.detach().cpu().numpy()[index], scalars=rescaled_mean_curv.detach().cpu().numpy(), \n",
    "              show_scalar_bar=True,\n",
    "              point_size=5,cmap=\"magma\", clim=[-1,1], scalar_bar_args={'title': 'Mean Curvature (tanh)', 'position_x': 0.25, 'position_y': 0.88})\n",
    "pl.zoom_camera(1.5)\n",
    "\n",
    "pl.subplot(0, 2)\n",
    "rescaled_total_curv = total_curvature[index: index+1]\n",
    "rescaled_total_curv = torch.tanh(rescaled_total_curv/100)\n",
    "pl.add_points(pcl_with_frames.pointscloud.detach().cpu().numpy()[index], scalars=rescaled_total_curv.detach().cpu().numpy(), \n",
    "              show_scalar_bar=True,\n",
    "              point_size=5,cmap=\"cividis\", clim=[0,1], scalar_bar_args={'title': 'Total Curvature (log)', 'position_x': 0.25, 'position_y': 0.88})\n",
    "pl.zoom_camera(1.5)\n",
    "pl.show()\n",
    "pl.screenshot(\"results/pointcloud_curvature_example.png\", window_size=[1200*2, 450*2])\n",
    "pl.close()"
   ]
  },
  {
   "cell_type": "code",
   "execution_count": null,
   "metadata": {},
   "outputs": [],
   "source": []
  }
 ],
 "metadata": {
  "kernelspec": {
   "display_name": "MedicalImage",
   "language": "python",
   "name": "python3"
  },
  "language_info": {
   "codemirror_mode": {
    "name": "ipython",
    "version": 3
   },
   "file_extension": ".py",
   "mimetype": "text/x-python",
   "name": "python",
   "nbconvert_exporter": "python",
   "pygments_lexer": "ipython3",
   "version": "3.9.18"
  },
  "orig_nbformat": 4
 },
 "nbformat": 4,
 "nbformat_minor": 2
}
